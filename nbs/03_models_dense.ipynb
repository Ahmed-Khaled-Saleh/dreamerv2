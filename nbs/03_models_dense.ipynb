{
 "cells": [
  {
   "cell_type": "markdown",
   "id": "6b4bdaba",
   "metadata": {},
   "source": [
    "# Dense model\n",
    "\n",
    "> Fully connected neural network for action distribution."
   ]
  },
  {
   "cell_type": "code",
   "execution_count": null,
   "id": "eb1b1ff0",
   "metadata": {},
   "outputs": [],
   "source": [
    "#| default_exp models.dense"
   ]
  },
  {
   "cell_type": "code",
   "execution_count": null,
   "id": "94b4c8e3",
   "metadata": {},
   "outputs": [],
   "source": [
    "#| hide\n",
    "from nbdev.showdoc import *"
   ]
  },
  {
   "cell_type": "code",
   "execution_count": null,
   "id": "78f9d27f",
   "metadata": {},
   "outputs": [],
   "source": [
    "#| export \n",
    "import numpy as np\n",
    "import torch\n",
    "import torch.distributions as td\n",
    "import torch.nn as nn\n",
    "from fastcore.utils import *\n",
    "from fastcore.all import *"
   ]
  },
  {
   "cell_type": "code",
   "execution_count": null,
   "id": "0e02fe1e",
   "metadata": {},
   "outputs": [],
   "source": [
    "#| export\n",
    "import numpy as np\n",
    "import torch.nn as nn\n",
    "import torch.distributions as td\n",
    "\n",
    "class DenseModel(nn.Module):\n",
    "    def __init__(\n",
    "            self, \n",
    "            output_shape,\n",
    "            input_size, \n",
    "            info,\n",
    "        ):\n",
    "        \"\"\"\n",
    "        :param output_shape: tuple containing shape of expected output\n",
    "        :param input_size: size of input features\n",
    "        :param info: dict containing num of hidden layers, size of hidden layers, activation function, output distribution etc.\n",
    "        \"\"\"\n",
    "        super().__init__()\n",
    "        self._output_shape = output_shape\n",
    "        self._input_size = input_size\n",
    "        self._layers = info['layers']\n",
    "        self._node_size = info['node_size']\n",
    "        self.activation = info['activation']\n",
    "        self.dist = info['dist']\n",
    "        self.model = self.build_model()\n"
   ]
  },
  {
   "cell_type": "code",
   "execution_count": null,
   "id": "c3454ea6",
   "metadata": {},
   "outputs": [],
   "source": [
    "#| export\n",
    "@patch\n",
    "def build_model(self: DenseModel):\n",
    "    model = [nn.Linear(self._input_size, self._node_size)]\n",
    "    model += [self.activation()]\n",
    "    for i in range(self._layers-1):\n",
    "        model += [nn.Linear(self._node_size, self._node_size)]\n",
    "        model += [self.activation()]\n",
    "    model += [nn.Linear(self._node_size, int(np.prod(self._output_shape)))]\n",
    "    return nn.Sequential(*model) "
   ]
  },
  {
   "cell_type": "code",
   "execution_count": null,
   "id": "45f7a79e",
   "metadata": {},
   "outputs": [],
   "source": [
    "#| export \n",
    "@patch\n",
    "def forward(self: DenseModel, input):\n",
    "    dist_inputs = self.model(input)\n",
    "    if self.dist == 'normal':\n",
    "        return td.independent.Independent(td.Normal(dist_inputs, 1), len(self._output_shape))\n",
    "    if self.dist == 'binary':\n",
    "        return td.independent.Independent(td.Bernoulli(logits=dist_inputs), len(self._output_shape))\n",
    "    if self.dist == None:\n",
    "        return dist_inputs\n",
    "\n",
    "    raise NotImplementedError(self._dist)"
   ]
  },
  {
   "cell_type": "code",
   "execution_count": null,
   "id": "a3db35f2",
   "metadata": {},
   "outputs": [],
   "source": [
    "#| hide\n",
    "import nbdev; nbdev.nbdev_export()"
   ]
  }
 ],
 "metadata": {
  "kernelspec": {
   "display_name": "python3",
   "language": "python",
   "name": "python3"
  }
 },
 "nbformat": 4,
 "nbformat_minor": 5
}
