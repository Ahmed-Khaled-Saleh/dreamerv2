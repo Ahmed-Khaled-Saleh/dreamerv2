{
 "cells": [
  {
   "cell_type": "markdown",
   "id": "6b4bdaba",
   "metadata": {},
   "source": [
    "# Utils for RSSM\n",
    "\n",
    "> Various utilities for the RSSM."
   ]
  },
  {
   "cell_type": "code",
   "execution_count": null,
   "id": "eb1b1ff0",
   "metadata": {},
   "outputs": [],
   "source": [
    "#| default_exp utils.rssm"
   ]
  },
  {
   "cell_type": "code",
   "execution_count": null,
   "id": "94b4c8e3",
   "metadata": {},
   "outputs": [],
   "source": [
    "#| hide\n",
    "from nbdev.showdoc import *"
   ]
  },
  {
   "cell_type": "code",
   "execution_count": null,
   "id": "78f9d27f",
   "metadata": {},
   "outputs": [],
   "source": [
    "#| export \n",
    "import numpy as np\n",
    "import torch\n",
    "import torch.nn as nn\n",
    "from collections import namedtuple\n",
    "import torch.distributions as td\n",
    "import torch.nn.functional as F\n",
    "from typing import Union\n",
    "from fastcore.utils import *\n",
    "from fastcore.all import *"
   ]
  },
  {
   "cell_type": "code",
   "execution_count": null,
   "id": "7bab72b5",
   "metadata": {},
   "outputs": [],
   "source": [
    "#| export\n",
    "RSSMDiscState = namedtuple('RSSMDiscState', ['logit', 'stoch', 'deter'])\n",
    "RSSMContState = namedtuple('RSSMContState', ['mean', 'std', 'stoch', 'deter'])  \n",
    "\n",
    "RSSMState = Union[RSSMDiscState, RSSMContState]\n",
    "\n",
    "\n",
    "def seq_to_batch(sequence_data, batch_size, seq_len):\n",
    "    \"\"\"\n",
    "    converts a sequence of length L and batch_size B to a single batch of size L*B\n",
    "    \"\"\"\n",
    "    shp = tuple(sequence_data.shape)\n",
    "    batch_data = torch.reshape(sequence_data, [shp[0]*shp[1], *shp[2:]])\n",
    "    return batch_data\n",
    "\n",
    "def batch_to_seq(batch_data, batch_size, seq_len):\n",
    "    \"\"\"\n",
    "    converts a single batch of size L*B to a sequence of length L and batch_size B\n",
    "    \"\"\"\n",
    "    shp = tuple(batch_data.shape)\n",
    "    seq_data = torch.reshape(batch_data, [seq_len, batch_size, *shp[1:]])\n",
    "    return seq_data"
   ]
  },
  {
   "cell_type": "code",
   "execution_count": null,
   "id": "8be93f1c",
   "metadata": {},
   "outputs": [],
   "source": [
    "#| export\n",
    "class RSSMUtils(object):\n",
    "    '''utility functions for dealing with rssm states'''\n",
    "    def __init__(self, rssm_type, info):\n",
    "        self.rssm_type = rssm_type\n",
    "        if rssm_type == 'continuous':\n",
    "            self.deter_size = info['deter_size']\n",
    "            self.stoch_size = info['stoch_size']\n",
    "            self.min_std = info['min_std']\n",
    "        elif rssm_type == 'discrete':\n",
    "            self.deter_size = info['deter_size']\n",
    "            self.class_size = info['class_size']\n",
    "            self.category_size = info['category_size']\n",
    "            self.stoch_size  = self.class_size*self.category_size\n",
    "        else:\n",
    "            raise NotImplementedError\n"
   ]
  },
  {
   "cell_type": "code",
   "execution_count": null,
   "id": "0b1aa95f",
   "metadata": {},
   "outputs": [],
   "source": [
    "#| export\n",
    "@patch\n",
    "def rssm_seq_to_batch(self: RSSMUtils, rssm_state, batch_size, seq_len):\n",
    "    if self.rssm_type == 'discrete':\n",
    "        return RSSMDiscState(\n",
    "            seq_to_batch(rssm_state.logit[:seq_len], batch_size, seq_len),\n",
    "            seq_to_batch(rssm_state.stoch[:seq_len], batch_size, seq_len),\n",
    "            seq_to_batch(rssm_state.deter[:seq_len], batch_size, seq_len)\n",
    "        )\n",
    "    elif self.rssm_type == 'continuous':\n",
    "        return RSSMContState(\n",
    "            seq_to_batch(rssm_state.mean[:seq_len], batch_size, seq_len),\n",
    "            seq_to_batch(rssm_state.std[:seq_len], batch_size, seq_len),\n",
    "            seq_to_batch(rssm_state.stoch[:seq_len], batch_size, seq_len),\n",
    "            seq_to_batch(rssm_state.deter[:seq_len], batch_size, seq_len)\n",
    "        )\n",
    "    "
   ]
  },
  {
   "cell_type": "code",
   "execution_count": null,
   "id": "ecec555a",
   "metadata": {},
   "outputs": [],
   "source": [
    "#| export\n",
    "@patch\n",
    "def rssm_batch_to_seq(self: RSSMUtils, rssm_state, batch_size, seq_len):\n",
    "    if self.rssm_type == 'discrete':\n",
    "        return RSSMDiscState(\n",
    "            batch_to_seq(rssm_state.logit, batch_size, seq_len),\n",
    "            batch_to_seq(rssm_state.stoch, batch_size, seq_len),\n",
    "            batch_to_seq(rssm_state.deter, batch_size, seq_len)\n",
    "        )\n",
    "    elif self.rssm_type == 'continuous':\n",
    "        return RSSMContState(\n",
    "            batch_to_seq(rssm_state.mean, batch_size, seq_len),\n",
    "            batch_to_seq(rssm_state.std, batch_size, seq_len),\n",
    "            batch_to_seq(rssm_state.stoch, batch_size, seq_len),\n",
    "            batch_to_seq(rssm_state.deter, batch_size, seq_len)\n",
    "        )\n",
    "        "
   ]
  },
  {
   "cell_type": "code",
   "execution_count": null,
   "id": "1ef75795",
   "metadata": {},
   "outputs": [],
   "source": [
    "#| export\n",
    "@patch\n",
    "def get_dist(self: RSSMUtils, rssm_state):\n",
    "    if self.rssm_type == 'discrete':\n",
    "        shape = rssm_state.logit.shape\n",
    "        logit = torch.reshape(rssm_state.logit, shape = (*shape[:-1], self.category_size, self.class_size))\n",
    "        return td.Independent(td.OneHotCategoricalStraightThrough(logits=logit), 1)\n",
    "    elif self.rssm_type == 'continuous':\n",
    "        return td.independent.Independent(td.Normal(rssm_state.mean, rssm_state.std), 1)\n"
   ]
  },
  {
   "cell_type": "code",
   "execution_count": null,
   "id": "bb2a5b36",
   "metadata": {},
   "outputs": [],
   "source": [
    "#| export\n",
    "@patch\n",
    "def get_stoch_state(self: RSSMUtils, stats):\n",
    "    if self.rssm_type == 'discrete':\n",
    "        logit = stats['logit']\n",
    "        shape = logit.shape\n",
    "        logit = torch.reshape(logit, shape = (*shape[:-1], self.category_size, self.class_size))\n",
    "        dist = torch.distributions.OneHotCategorical(logits=logit)        \n",
    "        stoch = dist.sample()\n",
    "        stoch += dist.probs - dist.probs.detach()\n",
    "        return torch.flatten(stoch, start_dim=-2, end_dim=-1)\n",
    "    \n",
    "    elif self.rssm_type == 'continuous':\n",
    "        mean = stats['mean']\n",
    "        std = stats['std']\n",
    "        std = F.softplus(std) + self.min_std\n",
    "        return mean + std*torch.randn_like(mean), std\n"
   ]
  },
  {
   "cell_type": "code",
   "execution_count": null,
   "id": "26d5c0ce",
   "metadata": {},
   "outputs": [],
   "source": [
    "#| export\n",
    "@patch\n",
    "def rssm_stack_states(self: RSSMUtils, rssm_states, dim):\n",
    "    if self.rssm_type == 'discrete':\n",
    "        return RSSMDiscState(\n",
    "            torch.stack([state.logit for state in rssm_states], dim=dim),\n",
    "            torch.stack([state.stoch for state in rssm_states], dim=dim),\n",
    "            torch.stack([state.deter for state in rssm_states], dim=dim),\n",
    "        )\n",
    "    elif self.rssm_type == 'continuous':\n",
    "        return RSSMContState(\n",
    "        torch.stack([state.mean for state in rssm_states], dim=dim),\n",
    "        torch.stack([state.std for state in rssm_states], dim=dim),\n",
    "        torch.stack([state.stoch for state in rssm_states], dim=dim),\n",
    "        torch.stack([state.deter for state in rssm_states], dim=dim),\n",
    "    )"
   ]
  },
  {
   "cell_type": "code",
   "execution_count": null,
   "id": "de49b000",
   "metadata": {},
   "outputs": [],
   "source": [
    "#| export\n",
    "@patch\n",
    "def get_model_state(self: RSSMUtils, rssm_state):\n",
    "    if self.rssm_type == 'discrete':\n",
    "        return torch.cat((rssm_state.deter, rssm_state.stoch), dim=-1)\n",
    "    elif self.rssm_type == 'continuous':\n",
    "        return torch.cat((rssm_state.deter, rssm_state.stoch), dim=-1)\n"
   ]
  },
  {
   "cell_type": "code",
   "execution_count": null,
   "id": "98f278e0",
   "metadata": {},
   "outputs": [],
   "source": [
    "#| export\n",
    "@patch\n",
    "def rssm_detach(self: RSSMUtils, rssm_state):\n",
    "    if self.rssm_type == 'discrete':\n",
    "        return RSSMDiscState(\n",
    "            rssm_state.logit.detach(),  \n",
    "            rssm_state.stoch.detach(),\n",
    "            rssm_state.deter.detach(),\n",
    "        )\n",
    "    elif self.rssm_type == 'continuous':\n",
    "        return RSSMContState(\n",
    "            rssm_state.mean.detach(),\n",
    "            rssm_state.std.detach(),  \n",
    "            rssm_state.stoch.detach(),\n",
    "            rssm_state.deter.detach()\n",
    "        )"
   ]
  },
  {
   "cell_type": "code",
   "execution_count": null,
   "id": "0e02fe1e",
   "metadata": {},
   "outputs": [],
   "source": [
    "#| export\n",
    "@patch\n",
    "def _init_rssm_state(self: RSSMUtils, batch_size, **kwargs):\n",
    "    if self.rssm_type  == 'discrete':\n",
    "        return RSSMDiscState(\n",
    "            torch.zeros(batch_size, self.stoch_size, **kwargs).to(self.device),\n",
    "            torch.zeros(batch_size, self.stoch_size, **kwargs).to(self.device),\n",
    "            torch.zeros(batch_size, self.deter_size, **kwargs).to(self.device),\n",
    "        )\n",
    "    elif self.rssm_type == 'continuous':\n",
    "        return RSSMContState(\n",
    "            torch.zeros(batch_size, self.stoch_size, **kwargs).to(self.device),\n",
    "            torch.zeros(batch_size, self.stoch_size, **kwargs).to(self.device),\n",
    "            torch.zeros(batch_size, self.stoch_size, **kwargs).to(self.device),\n",
    "            torch.zeros(batch_size, self.deter_size, **kwargs).to(self.device),\n",
    "        )"
   ]
  },
  {
   "cell_type": "code",
   "execution_count": null,
   "id": "a7fa9ff7",
   "metadata": {},
   "outputs": [],
   "source": []
  },
  {
   "cell_type": "code",
   "execution_count": null,
   "id": "a3db35f2",
   "metadata": {},
   "outputs": [],
   "source": [
    "#| hide\n",
    "import nbdev; nbdev.nbdev_export()"
   ]
  }
 ],
 "metadata": {
  "kernelspec": {
   "display_name": "python3",
   "language": "python",
   "name": "python3"
  }
 },
 "nbformat": 4,
 "nbformat_minor": 5
}
