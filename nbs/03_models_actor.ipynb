{
 "cells": [
  {
   "cell_type": "markdown",
   "id": "6b4bdaba",
   "metadata": {},
   "source": [
    "# Actor model\n",
    "\n",
    "> Takes in the current observation and the current latent, and outputs the next action distribution."
   ]
  },
  {
   "cell_type": "code",
   "execution_count": null,
   "id": "eb1b1ff0",
   "metadata": {},
   "outputs": [],
   "source": [
    "#| default_exp models.actor"
   ]
  },
  {
   "cell_type": "code",
   "execution_count": null,
   "id": "94b4c8e3",
   "metadata": {},
   "outputs": [],
   "source": [
    "#| hide\n",
    "from nbdev.showdoc import *"
   ]
  },
  {
   "cell_type": "code",
   "execution_count": null,
   "id": "78f9d27f",
   "metadata": {},
   "outputs": [],
   "source": [
    "#| export \n",
    "import numpy as np\n",
    "import torch\n",
    "import torch.distributions as td\n",
    "import torch.nn as nn\n",
    "from fastcore.utils import *\n",
    "from fastcore.all import *"
   ]
  },
  {
   "cell_type": "code",
   "execution_count": null,
   "id": "0e02fe1e",
   "metadata": {},
   "outputs": [],
   "source": [
    "#| export\n",
    "class DiscreteActionModel(nn.Module):\n",
    "    def __init__(\n",
    "        self,\n",
    "        action_size,\n",
    "        deter_size,\n",
    "        stoch_size,\n",
    "        embedding_size,\n",
    "        actor_info,\n",
    "        expl_info\n",
    "    ):\n",
    "        super().__init__()\n",
    "        self.action_size = action_size\n",
    "        self.deter_size = deter_size\n",
    "        self.stoch_size = stoch_size\n",
    "        self.embedding_size = embedding_size\n",
    "        self.layers = actor_info['layers']\n",
    "        self.node_size = actor_info['node_size']\n",
    "        self.act_fn = actor_info['activation']\n",
    "        self.dist = actor_info['dist']\n",
    "        self.act_fn = actor_info['activation']\n",
    "        self.train_noise = expl_info['train_noise']\n",
    "        self.eval_noise = expl_info['eval_noise']\n",
    "        self.expl_min = expl_info['expl_min']\n",
    "        self.expl_decay = expl_info['expl_decay']\n",
    "        self.expl_type = expl_info['expl_type']\n",
    "        self.model = self._build_model()\n"
   ]
  },
  {
   "cell_type": "code",
   "execution_count": null,
   "id": "c3454ea6",
   "metadata": {},
   "outputs": [],
   "source": [
    "#| export\n",
    "@patch\n",
    "def _build_model(self: DiscreteActionModel):\n",
    "    model = [nn.Linear(self.deter_size + self.stoch_size, self.node_size)]\n",
    "    model += [self.act_fn()]\n",
    "    for i in range(1, self.layers):\n",
    "        model += [nn.Linear(self.node_size, self.node_size)]\n",
    "        model += [self.act_fn()]\n",
    "\n",
    "    if self.dist == 'one_hot':\n",
    "        model += [nn.Linear(self.node_size, self.action_size)]\n",
    "    else:\n",
    "        raise NotImplementedError\n",
    "    return nn.Sequential(*model) "
   ]
  },
  {
   "cell_type": "code",
   "execution_count": null,
   "id": "45f7a79e",
   "metadata": {},
   "outputs": [],
   "source": [
    "#| export \n",
    "@patch\n",
    "def forward(self: DiscreteActionModel, model_state):\n",
    "    action_dist = self.get_action_dist(model_state)\n",
    "    action = action_dist.sample()\n",
    "    action = action + action_dist.probs - action_dist.probs.detach()\n",
    "    return action, action_dist"
   ]
  },
  {
   "cell_type": "code",
   "execution_count": null,
   "id": "11a363a1",
   "metadata": {},
   "outputs": [],
   "source": [
    "#| export \n",
    "@patch\n",
    "def get_action_dist(self: DiscreteActionModel, modelstate):\n",
    "    logits = self.model(modelstate)\n",
    "    if self.dist == 'one_hot':\n",
    "        return torch.distributions.OneHotCategorical(logits=logits)         \n",
    "    else:\n",
    "        raise NotImplementedError\n",
    "        "
   ]
  },
  {
   "cell_type": "code",
   "execution_count": null,
   "id": "bf9211e2",
   "metadata": {},
   "outputs": [],
   "source": [
    "#| export\n",
    "@patch\n",
    "def add_exploration(self: DiscreteActionModel, action: torch.Tensor, itr: int, mode='train'):\n",
    "    if mode == 'train':\n",
    "        expl_amount = self.train_noise\n",
    "        expl_amount = expl_amount - itr/self.expl_decay\n",
    "        expl_amount = max(self.expl_min, expl_amount)\n",
    "    elif mode == 'eval':\n",
    "        expl_amount = self.eval_noise\n",
    "    else:\n",
    "        raise NotImplementedError\n",
    "        \n",
    "    if self.expl_type == 'epsilon_greedy':\n",
    "        if np.random.uniform(0, 1) < expl_amount:\n",
    "            index = torch.randint(0, self.action_size, action.shape[:-1], device=action.device)\n",
    "            action = torch.zeros_like(action)\n",
    "            action[:, index] = 1\n",
    "        return action\n",
    "\n",
    "    raise NotImplementedError"
   ]
  },
  {
   "cell_type": "code",
   "execution_count": null,
   "id": "a7fa9ff7",
   "metadata": {},
   "outputs": [],
   "source": []
  },
  {
   "cell_type": "code",
   "execution_count": null,
   "id": "a3db35f2",
   "metadata": {},
   "outputs": [],
   "source": [
    "#| hide\n",
    "import nbdev; nbdev.nbdev_export()"
   ]
  }
 ],
 "metadata": {
  "kernelspec": {
   "display_name": "python3",
   "language": "python",
   "name": "python3"
  }
 },
 "nbformat": 4,
 "nbformat_minor": 5
}
