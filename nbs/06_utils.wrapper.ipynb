{
 "cells": [
  {
   "cell_type": "code",
   "execution_count": null,
   "metadata": {},
   "outputs": [],
   "source": [
    "#| default_exp utils.wrapper"
   ]
  },
  {
   "cell_type": "markdown",
   "metadata": {},
   "source": [
    "# Default Title (change me)\n",
    "> Default description (change me)"
   ]
  },
  {
   "cell_type": "code",
   "execution_count": null,
   "metadata": {},
   "outputs": [],
   "source": [
    "#| export\n",
    "import minatar\n",
    "import gym\n",
    "import numpy as np"
   ]
  },
  {
   "cell_type": "code",
   "execution_count": null,
   "metadata": {},
   "outputs": [],
   "source": [
    "#| export\n",
    "class GymMinAtar(gym.Env):\n",
    "    metadata = {'render.modes': ['human', 'rgb_array']}\n",
    "\n",
    "    def __init__(self, env_name, display_time=50):\n",
    "        self.display_time = display_time\n",
    "        self.env_name = env_name\n",
    "        self.env = minatar.Environment(env_name) \n",
    "        self.minimal_actions = self.env.minimal_action_set()\n",
    "        h,w,c = self.env.state_shape()\n",
    "        self.action_space = gym.spaces.Discrete(len(self.minimal_actions))\n",
    "        self.observation_space = gym.spaces.MultiBinary((c,h,w))\n",
    "\n",
    "    def reset(self):\n",
    "        self.env.reset()\n",
    "        return self.env.state().transpose(2, 0, 1)\n",
    "    \n",
    "    def step(self, index):\n",
    "        '''index is the action id, considering only the set of minimal actions'''\n",
    "        action = self.minimal_actions[index]\n",
    "        r, terminal = self.env.act(action)\n",
    "        self.game_over = terminal\n",
    "        return self.env.state().transpose(2, 0, 1), r, terminal, {}\n",
    "\n",
    "    def seed(self, seed='None'):\n",
    "        self.env = minatar.Environment(self.env_name, random_seed=seed)\n",
    "    \n",
    "    def render(self, mode='human'):\n",
    "        if mode == 'rgb_array':\n",
    "            return self.env.state()\n",
    "        elif mode == 'human':\n",
    "            self.env.display_state(self.display_time)\n",
    "\n",
    "    def close(self):\n",
    "        if self.env.visualized:\n",
    "            self.env.close_display()\n",
    "        return 0"
   ]
  },
  {
   "cell_type": "code",
   "execution_count": null,
   "metadata": {},
   "outputs": [],
   "source": [
    "#| export\n",
    "class breakoutPOMDP(gym.ObservationWrapper):\n",
    "    def __init__(self, env):\n",
    "        '''index 2 (trail) is removed, which gives ball's direction'''\n",
    "        super(breakoutPOMDP, self).__init__(env)\n",
    "        c,h,w = env.observation_space.shape\n",
    "        self.observation_space = gym.spaces.MultiBinary((c-1,h,w))\n",
    "\n",
    "    def observation(self, observation):\n",
    "        return np.stack([observation[0], observation[1], observation[3]], axis=0)\n",
    "    "
   ]
  },
  {
   "cell_type": "code",
   "execution_count": null,
   "metadata": {},
   "outputs": [],
   "source": [
    "#| export\n",
    "class asterixPOMDP(gym.ObservationWrapper):\n",
    "    '''index 2 (trail) is removed, which gives ball's direction'''\n",
    "    def __init__(self, env):\n",
    "        super(asterixPOMDP, self).__init__(env)\n",
    "        c,h,w = env.observation_space.shape\n",
    "        self.observation_space = gym.spaces.MultiBinary((c-1,h,w))\n",
    "    \n",
    "    def observation(self, observation):\n",
    "        return np.stack([observation[0], observation[1], observation[3]], axis=0)\n",
    "    "
   ]
  },
  {
   "cell_type": "code",
   "execution_count": null,
   "metadata": {},
   "outputs": [],
   "source": [
    "#| export\n",
    "class freewayPOMDP(gym.ObservationWrapper):\n",
    "    '''index 2-6 (trail and speed) are removed, which gives cars' speed and direction'''\n",
    "    def __init__(self, env):\n",
    "        super(freewayPOMDP, self).__init__(env)\n",
    "        c,h,w = env.observation_space.shape\n",
    "        self.observation_space = gym.spaces.MultiBinary((c-5,h,w))\n",
    "    \n",
    "    def observation(self, observation):\n",
    "        return np.stack([observation[0], observation[1]], axis=0)    "
   ]
  },
  {
   "cell_type": "code",
   "execution_count": null,
   "metadata": {},
   "outputs": [],
   "source": [
    "#| export\n",
    "class space_invadersPOMDP(gym.ObservationWrapper):\n",
    "    '''index 2-3 (trail) are removed, which gives aliens' direction'''\n",
    "    def __init__(self, env):\n",
    "        super(space_invadersPOMDP, self).__init__(env)\n",
    "        c,h,w = env.observation_space.shape\n",
    "        self.observation_space = gym.spaces.MultiBinary((c-2,h,w))\n",
    "    def observation(self, observation):\n",
    "        return np.stack([observation[0], observation[1], observation[4], observation[5]], axis=0)"
   ]
  },
  {
   "cell_type": "code",
   "execution_count": null,
   "metadata": {},
   "outputs": [],
   "source": [
    "#| export\n",
    "class seaquestPOMDP(gym.ObservationWrapper):\n",
    "    '''index 3 (trail) is removed, which gives enemy and driver's direction'''\n",
    "    def __init__(self, env):\n",
    "        super(seaquestPOMDP, self).__init__(env)\n",
    "        c,h,w = env.observation_space.shape\n",
    "        self.observation_space = gym.spaces.MultiBinary((c-1,h,w))\n",
    "        \n",
    "    def observation(self, observation):\n",
    "        return np.stack([observation[0], observation[1], observation[2], observation[4], observation[5], observation[6], observation[7], observation[8], observation[9]], axis=0)    "
   ]
  },
  {
   "cell_type": "code",
   "execution_count": null,
   "metadata": {},
   "outputs": [],
   "source": [
    "#| export\n",
    "class ActionRepeat(gym.Wrapper):\n",
    "    def __init__(self, env, repeat=1):\n",
    "        super(ActionRepeat, self).__init__(env)\n",
    "        self.repeat = repeat\n",
    "\n",
    "    def step(self, action):\n",
    "        done = False\n",
    "        total_reward = 0\n",
    "        current_step = 0\n",
    "        while current_step < self.repeat and not done:\n",
    "            obs, reward, done, info = self.env.step(action)\n",
    "            total_reward += reward\n",
    "            current_step += 1\n",
    "        return obs, total_reward, done, info"
   ]
  },
  {
   "cell_type": "code",
   "execution_count": null,
   "metadata": {},
   "outputs": [],
   "source": [
    "#| export\n",
    "class TimeLimit(gym.Wrapper):\n",
    "    def __init__(self, env, duration):\n",
    "        super(TimeLimit, self).__init__(env)\n",
    "        self._duration = duration\n",
    "        self._step = 0\n",
    "    \n",
    "    def step(self, action):\n",
    "        assert self._step is not None, 'Must reset environment.'\n",
    "        obs, reward, done, info = self.env.step(action)\n",
    "        self._step += 1\n",
    "        if self._step >= self._duration:\n",
    "            done = True\n",
    "            info['time_limit_reached'] = True\n",
    "        return obs, reward, done, info\n",
    "\n",
    "    def reset(self):\n",
    "        self._step = 0\n",
    "        return self.env.reset()"
   ]
  },
  {
   "cell_type": "code",
   "execution_count": null,
   "metadata": {},
   "outputs": [],
   "source": [
    "#| export\n",
    "class OneHotAction(gym.Wrapper):\n",
    "    def __init__(self, env):\n",
    "        assert isinstance(env.action_space, gym.spaces.Discrete), \"This wrapper only works with discrete action space\"\n",
    "        shape = (env.action_space.n,)\n",
    "        env.action_space = gym.spaces.Box(low=0, high=1, shape=shape, dtype=np.float32)\n",
    "        env.action_space.sample = self._sample_action\n",
    "        super(OneHotAction, self).__init__(env)\n",
    "    \n",
    "    def step(self, action):\n",
    "        index = np.argmax(action).astype(int)\n",
    "        reference = np.zeros_like(action)\n",
    "        reference[index] = 1\n",
    "        return self.env.step(index)\n",
    "\n",
    "    def reset(self):\n",
    "        return self.env.reset()\n",
    "    \n",
    "    def _sample_action(self):\n",
    "        actions = self.env.action_space.shape[0]\n",
    "        index = np.random.randint(0, actions)\n",
    "        reference = np.zeros(actions, dtype=np.float32)\n",
    "        reference[index] = 1.0\n",
    "        return reference"
   ]
  }
 ],
 "metadata": {
  "jupytext": {
   "split_at_heading": true
  },
  "kernelspec": {
   "display_name": "python3",
   "language": "python",
   "name": "python3"
  }
 },
 "nbformat": 4,
 "nbformat_minor": 4
}
