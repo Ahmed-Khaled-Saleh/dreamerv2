{
 "cells": [
  {
   "cell_type": "code",
   "execution_count": null,
   "metadata": {},
   "outputs": [],
   "source": [
    "#| default_exp utils.module"
   ]
  },
  {
   "cell_type": "markdown",
   "metadata": {},
   "source": [
    "# Default Title (change me)\n",
    "> Default description (change me)"
   ]
  },
  {
   "cell_type": "code",
   "execution_count": null,
   "metadata": {},
   "outputs": [],
   "source": [
    "#| export\n",
    "import torch.nn as nn\n",
    "from typing import Iterable"
   ]
  },
  {
   "cell_type": "code",
   "execution_count": null,
   "metadata": {},
   "outputs": [],
   "source": [
    "#| export\n",
    "def get_parameters(modules: Iterable[nn.Module]):\n",
    "    \"\"\"\n",
    "    Given a list of torch modules, returns a list of their parameters.\n",
    "    :param modules: iterable of modules\n",
    "    :returns: a list of parameters\n",
    "    \"\"\"\n",
    "    model_parameters = []\n",
    "    for module in modules:\n",
    "        model_parameters += list(module.parameters())\n",
    "    return model_parameters"
   ]
  },
  {
   "cell_type": "code",
   "execution_count": null,
   "metadata": {},
   "outputs": [],
   "source": [
    "#| export\n",
    "class FreezeParameters:\n",
    "    def __init__(self, modules: Iterable[nn.Module]):\n",
    "        \"\"\"\n",
    "        Context manager to locally freeze gradients.\n",
    "        In some cases with can speed up computation because gradients aren't calculated for these listed modules.\n",
    "        example:\n",
    "        ```\n",
    "        with FreezeParameters([module]):\n",
    "            output_tensor = module(input_tensor)\n",
    "        ```\n",
    "        :param modules: iterable of modules. used to call .parameters() to freeze gradients.\n",
    "        \"\"\"\n",
    "        self.modules = modules\n",
    "        self.param_states = [p.requires_grad for p in get_parameters(self.modules)]\n",
    "\n",
    "    def __enter__(self):\n",
    "        for param in get_parameters(self.modules):\n",
    "            param.requires_grad = False\n",
    "\n",
    "    def __exit__(self, exc_type, exc_val, exc_tb):\n",
    "        for i, param in enumerate(get_parameters(self.modules)):\n",
    "            param.requires_grad = self.param_states[i]"
   ]
  }
 ],
 "metadata": {
  "jupytext": {
   "split_at_heading": true
  },
  "kernelspec": {
   "display_name": "python3",
   "language": "python",
   "name": "python3"
  }
 },
 "nbformat": 4,
 "nbformat_minor": 4
}
